{
 "cells": [
  {
   "cell_type": "code",
   "execution_count": 13,
   "id": "53d1c0a2",
   "metadata": {},
   "outputs": [],
   "source": [
    "def alg_e_ext(a, b):\n",
    "    if b == 0:\n",
    "        return a, 1, 0\n",
    "    else:\n",
    "        d, x, y = alg_e_ext(b, a % b)\n",
    "    return d, y, x - (a // b) * y"
   ]
  },
  {
   "cell_type": "code",
   "execution_count": 14,
   "id": "5fd17856",
   "metadata": {},
   "outputs": [],
   "source": [
    "def inv(a, n):\n",
    "    return alg_e_ext(a, n)[1]"
   ]
  },
  {
   "cell_type": "code",
   "execution_count": 15,
   "id": "e93b6e13",
   "metadata": {},
   "outputs": [],
   "source": [
    "def fun(x, a, b, xxx):\n",
    "    (G, H, P, Q) = xxx\n",
    "    sub = x % 3\n",
    "    if sub == 0:\n",
    "        x = x * xxx[0] % xxx[2]\n",
    "        a = (a + 1) % Q\n",
    "    if sub == 1:\n",
    "        x = x * xxx[1] % xxx[2]\n",
    "        b = (b + 1) % xxx[2]\n",
    "    if sub == 2:\n",
    "        x = x * x % xxx[2]\n",
    "        a = a * 2 % xxx[3]\n",
    "        b = b * 2 % xxx[3]\n",
    "    return x, a, b"
   ]
  },
  {
   "cell_type": "code",
   "execution_count": 19,
   "id": "b28790af",
   "metadata": {},
   "outputs": [],
   "source": [
    "def Pollard(G, H, P):\n",
    "    Q = int((P - 1) // 2)\n",
    "    x = G * H\n",
    "    a = 1\n",
    "    b = 1\n",
    "    X = x\n",
    "    A = a\n",
    "    B = b\n",
    "    for i in range(1, P):\n",
    "        x, a, b = fun(x, a, b, (G, H, P, Q))\n",
    "        X, A, B = fun(X, A, B, (G, H, P, Q))\n",
    "        X, A, B = fun(X, A, B, (G, H, P, Q))\n",
    "        if x == X:\n",
    "            break\n",
    "    nom = a - A\n",
    "    denom = B - b\n",
    "    res = (inv(denom, Q) * nom) % Q\n",
    "    if prov(G, H, P, res):\n",
    "        return res\n",
    "    return res + Q"
   ]
  },
  {
   "cell_type": "code",
   "execution_count": 20,
   "id": "7d33667d",
   "metadata": {},
   "outputs": [
    {
     "name": "stdout",
     "output_type": "stream",
     "text": [
      "(10, 64, 107)  :  20\n",
      "Validates:  True\n"
     ]
    }
   ],
   "source": [
    "def prov(g, h, p, x):\n",
    "    return pow(g, x, p) == h\n",
    "args = [(10, 64, 107)]\n",
    "for arg in args:\n",
    "    res = Pollard(*arg)\n",
    "    print(arg, ' : ', res)\n",
    "    print(\"Validates: \", prov(arg[0], arg[1], arg[2], res))"
   ]
  },
  {
   "cell_type": "code",
   "execution_count": null,
   "id": "dc4402c7",
   "metadata": {},
   "outputs": [],
   "source": []
  }
 ],
 "metadata": {
  "kernelspec": {
   "display_name": "Python 3 (ipykernel)",
   "language": "python",
   "name": "python3"
  },
  "language_info": {
   "codemirror_mode": {
    "name": "ipython",
    "version": 3
   },
   "file_extension": ".py",
   "mimetype": "text/x-python",
   "name": "python",
   "nbconvert_exporter": "python",
   "pygments_lexer": "ipython3",
   "version": "3.9.13"
  }
 },
 "nbformat": 4,
 "nbformat_minor": 5
}
